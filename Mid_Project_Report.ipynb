{
  "nbformat": 4,
  "nbformat_minor": 0,
  "metadata": {
    "colab": {
      "name": "Mid Project Report",
      "provenance": [],
      "collapsed_sections": [],
      "mount_file_id": "1KD1GmIbMWyir6vQdddrpIelwMs-OvYOZ",
      "authorship_tag": "ABX9TyOvHGCOKwThMHM8p0SLX74I",
      "include_colab_link": true
    },
    "kernelspec": {
      "name": "python3",
      "display_name": "Python 3"
    }
  },
  "cells": [
    {
      "cell_type": "markdown",
      "metadata": {
        "id": "view-in-github",
        "colab_type": "text"
      },
      "source": [
        "<a href=\"https://colab.research.google.com/github/andrewbhennessy/CS4641-Customer-Segmentation-Analysis/blob/main/Mid_Project_Report.ipynb\" target=\"_parent\"><img src=\"https://colab.research.google.com/assets/colab-badge.svg\" alt=\"Open In Colab\"/></a>"
      ]
    },
    {
      "cell_type": "code",
      "metadata": {
        "id": "MKwbrvzVV7bB"
      },
      "source": [
        "import pandas as pd\n",
        "import numpy as np\n",
        "import sklearn as skl\n",
        "import matplotlib.pyplot as plt\n",
        "from google.colab import drive"
      ],
      "execution_count": 19,
      "outputs": []
    },
    {
      "cell_type": "code",
      "metadata": {
        "id": "vgEcqS84WWCS",
        "outputId": "c0961a57-b0c5-43f1-8916-3b9332e46f62",
        "colab": {
          "base_uri": "https://localhost:8080/"
        }
      },
      "source": [
        "drive.mount('/content/drive')"
      ],
      "execution_count": 10,
      "outputs": [
        {
          "output_type": "stream",
          "text": [
            "Drive already mounted at /content/drive; to attempt to forcibly remount, call drive.mount(\"/content/drive\", force_remount=True).\n"
          ],
          "name": "stdout"
        }
      ]
    },
    {
      "cell_type": "markdown",
      "metadata": {
        "id": "v2w3HTiqUZdZ"
      },
      "source": [
        "# Customer Data segmentation\n",
        "\n",
        "Link to Our Data: https://www.kaggle.com/carrie1/ecommerce-data\n",
        "\n",
        "How to Mount Data:\n",
        "1. Follow the Instructions in the Auth Cell\n",
        "2. Click the file icon\n",
        "3. Navigate to drive then the folder that I have shared should be CS4641 something\n",
        "4. right click on the file and copy path to the file and input into the next code cell as the first paramater in quotes. \n",
        "\n",
        "Example:\n",
        "\n",
        "\n",
        "```\n",
        "data = pd.read_csv('/content/drive/My Drive/CS4641 Customer Data Segmentation/data.csv', encoding=\"ISO-8859-1\", dtype={'CustomerID': str,'InvoiceID': str})\n",
        "```\n",
        "\n"
      ]
    },
    {
      "cell_type": "code",
      "metadata": {
        "id": "TfYsWZY5VP2j"
      },
      "source": [
        "data = pd.read_csv(\"/content/drive/My Drive/CS4641 Customer Data Segmentation/data.csv\", encoding=\"ISO-8859-1\", dtype={'CustomerID': str,'InvoiceID': str})"
      ],
      "execution_count": 12,
      "outputs": []
    },
    {
      "cell_type": "markdown",
      "metadata": {
        "id": "V1bTrIzyW7XD"
      },
      "source": [
        "# 1. Introduction/Background\n",
        "> The COVID-19 pandemic has greatly affected the way all companies advertise for their businesses. Now more than ever, online presence and advertising are necessary to attract customers. While each customer is unique, a similar group of customers can be targeted in an advertisement. This is almost always more successful than making a generic advertisement aimed at the entire population. Advertisements aimed at certain subsets can save money and increase company traffic.\n",
        "# 2. Problem definition\n",
        "> Our project will use customer spending datasets to group customers together, allowing advertising to become specialized to each group. With this, companies can target these groups and make advertisements specifically aimed at each of them. This will improve the success rate of advertisements and bring in more revenue from customers(Modukuru n.pag).\n",
        "# 3. Data Collection\n",
        "> ## 3.1 Data Abstract\n",
        "> ## 3.2 Data Cleaning Procedure\n",
        "1. Remove Nan Customer ID datapoints\n",
        "2. deal with negative quantities\n",
        "3. Weight Discounts, Cancelled Orders, Regular orders \n",
        ">> ``` weights = {'D':0.5,'C':-1,'R':1} ```\n",
        "4. Make new database based upon each customer with\n",
        ">> 4.1 RFM Segmentation\n",
        ">>> 4.1.1 Recency (how recent did customer buy from store?)\n",
        ">>> 4.1.2 Frequency (how often did customer buy from store?)\n",
        ">>> 4.1.3 Monetary (how much did customer spend?)\n",
        ">> 4.2 divide into tiered groups (4 tiers)\n",
        ">>> 4.2.1 DBSCAN\n",
        "\n",
        "> ## 3.3 Summary of Data\n"
      ]
    },
    {
      "cell_type": "code",
      "metadata": {
        "id": "HKwtX97AY1yb",
        "outputId": "db9a2313-747d-4eb6-9b1a-50083565fe64",
        "colab": {
          "base_uri": "https://localhost:8080/",
          "height": 204
        }
      },
      "source": [
        "data.head(5)"
      ],
      "execution_count": 13,
      "outputs": [
        {
          "output_type": "execute_result",
          "data": {
            "text/html": [
              "<div>\n",
              "<style scoped>\n",
              "    .dataframe tbody tr th:only-of-type {\n",
              "        vertical-align: middle;\n",
              "    }\n",
              "\n",
              "    .dataframe tbody tr th {\n",
              "        vertical-align: top;\n",
              "    }\n",
              "\n",
              "    .dataframe thead th {\n",
              "        text-align: right;\n",
              "    }\n",
              "</style>\n",
              "<table border=\"1\" class=\"dataframe\">\n",
              "  <thead>\n",
              "    <tr style=\"text-align: right;\">\n",
              "      <th></th>\n",
              "      <th>InvoiceNo</th>\n",
              "      <th>StockCode</th>\n",
              "      <th>Description</th>\n",
              "      <th>Quantity</th>\n",
              "      <th>InvoiceDate</th>\n",
              "      <th>UnitPrice</th>\n",
              "      <th>CustomerID</th>\n",
              "      <th>Country</th>\n",
              "    </tr>\n",
              "  </thead>\n",
              "  <tbody>\n",
              "    <tr>\n",
              "      <th>0</th>\n",
              "      <td>536365</td>\n",
              "      <td>85123A</td>\n",
              "      <td>WHITE HANGING HEART T-LIGHT HOLDER</td>\n",
              "      <td>6</td>\n",
              "      <td>12/1/2010 8:26</td>\n",
              "      <td>2.55</td>\n",
              "      <td>17850</td>\n",
              "      <td>United Kingdom</td>\n",
              "    </tr>\n",
              "    <tr>\n",
              "      <th>1</th>\n",
              "      <td>536365</td>\n",
              "      <td>71053</td>\n",
              "      <td>WHITE METAL LANTERN</td>\n",
              "      <td>6</td>\n",
              "      <td>12/1/2010 8:26</td>\n",
              "      <td>3.39</td>\n",
              "      <td>17850</td>\n",
              "      <td>United Kingdom</td>\n",
              "    </tr>\n",
              "    <tr>\n",
              "      <th>2</th>\n",
              "      <td>536365</td>\n",
              "      <td>84406B</td>\n",
              "      <td>CREAM CUPID HEARTS COAT HANGER</td>\n",
              "      <td>8</td>\n",
              "      <td>12/1/2010 8:26</td>\n",
              "      <td>2.75</td>\n",
              "      <td>17850</td>\n",
              "      <td>United Kingdom</td>\n",
              "    </tr>\n",
              "    <tr>\n",
              "      <th>3</th>\n",
              "      <td>536365</td>\n",
              "      <td>84029G</td>\n",
              "      <td>KNITTED UNION FLAG HOT WATER BOTTLE</td>\n",
              "      <td>6</td>\n",
              "      <td>12/1/2010 8:26</td>\n",
              "      <td>3.39</td>\n",
              "      <td>17850</td>\n",
              "      <td>United Kingdom</td>\n",
              "    </tr>\n",
              "    <tr>\n",
              "      <th>4</th>\n",
              "      <td>536365</td>\n",
              "      <td>84029E</td>\n",
              "      <td>RED WOOLLY HOTTIE WHITE HEART.</td>\n",
              "      <td>6</td>\n",
              "      <td>12/1/2010 8:26</td>\n",
              "      <td>3.39</td>\n",
              "      <td>17850</td>\n",
              "      <td>United Kingdom</td>\n",
              "    </tr>\n",
              "  </tbody>\n",
              "</table>\n",
              "</div>"
            ],
            "text/plain": [
              "  InvoiceNo StockCode  ... CustomerID         Country\n",
              "0    536365    85123A  ...      17850  United Kingdom\n",
              "1    536365     71053  ...      17850  United Kingdom\n",
              "2    536365    84406B  ...      17850  United Kingdom\n",
              "3    536365    84029G  ...      17850  United Kingdom\n",
              "4    536365    84029E  ...      17850  United Kingdom\n",
              "\n",
              "[5 rows x 8 columns]"
            ]
          },
          "metadata": {
            "tags": []
          },
          "execution_count": 13
        }
      ]
    },
    {
      "cell_type": "code",
      "metadata": {
        "id": "NU_-ewVqaRok",
        "outputId": "dd241024-7d6f-4be4-c1c7-c47ca6aa7faf",
        "colab": {
          "base_uri": "https://localhost:8080/"
        }
      },
      "source": [
        "data.info()"
      ],
      "execution_count": 14,
      "outputs": [
        {
          "output_type": "stream",
          "text": [
            "<class 'pandas.core.frame.DataFrame'>\n",
            "RangeIndex: 541909 entries, 0 to 541908\n",
            "Data columns (total 8 columns):\n",
            " #   Column       Non-Null Count   Dtype  \n",
            "---  ------       --------------   -----  \n",
            " 0   InvoiceNo    541909 non-null  object \n",
            " 1   StockCode    541909 non-null  object \n",
            " 2   Description  540455 non-null  object \n",
            " 3   Quantity     541909 non-null  int64  \n",
            " 4   InvoiceDate  541909 non-null  object \n",
            " 5   UnitPrice    541909 non-null  float64\n",
            " 6   CustomerID   406829 non-null  object \n",
            " 7   Country      541909 non-null  object \n",
            "dtypes: float64(1), int64(1), object(6)\n",
            "memory usage: 33.1+ MB\n"
          ],
          "name": "stdout"
        }
      ]
    },
    {
      "cell_type": "code",
      "metadata": {
        "id": "Tx9cOk1kaV4-",
        "outputId": "d09a0974-9a83-4945-c2ac-f1498df2b12b",
        "colab": {
          "base_uri": "https://localhost:8080/",
          "height": 353
        }
      },
      "source": [
        "plt.figure(figsize=(5, 5))\n",
        "data.isnull().mean(axis=0).plot.barh()\n",
        "plt.title(\"Ratio of missing values per columns\")"
      ],
      "execution_count": 20,
      "outputs": [
        {
          "output_type": "execute_result",
          "data": {
            "text/plain": [
              "Text(0.5, 1.0, 'Ratio of missing values per columns')"
            ]
          },
          "metadata": {
            "tags": []
          },
          "execution_count": 20
        },
        {
          "output_type": "display_data",
          "data": {
            "image/png": "[encoded data removed]",
            "text/plain": [
              "<Figure size 360x360 with 1 Axes>"
            ]
          },
          "metadata": {
            "tags": [],
            "needs_background": "light"
          }
        }
      ]
    },
    {
      "cell_type": "markdown",
      "metadata": {
        "id": "A3nCtsGuY0t4"
      },
      "source": [
        "# 4. Methods\n",
        "> We will be using DBScan to specify our groups. DBScan is defined as density based spatial clustering of applications with noise. Points with lower density will be treated as noise or outliers. Core points will represent the customers that a targeted advertisement is most likely to attract, border points will represent customers who may have some interest in a targeted advertisement aimed at their group, and outliers will have minimal to no interest in any targeted advertisement. Because DBScan is very sensitive to parameters, we will need to perform extensive testing to find the most optimal combination of epsilon value and number of minimum points(Hossain n.pag.)\n",
        "# 5. Results\n",
        "> ## 1.1 Potential Results\n",
        ">> Classify customer population into some number of specific groups (clusters). Companies can then create advertisements aiming towards attracting the different categories of customers.\n",
        "> ## 1.2 Results\n",
        ">> LOREM IPSUM\n",
        "# 6. Discussion\n",
        "> ## 1.1 Initial Discussion\n",
        ">> DBScan is a performative method that can categorize customers based on their spending habits and interests. However, the method is very sensitive to the two parameters: epsilon and minimum number of points. Different values for parameters will partition customers into different clusters, and choosing impractical parameter values lead to severe impact on customers’ experiences. Therefore, deciding the ideal values for each parameter using different analysis such as the elbow effect will be crucial. Another possible difficulty is partitioning a dataset with similar densities. If the dataset contains many groups of customers with a similar size of density, DBScan may struggle separating them. Despite these challenges, DBScan is still a phenomenal method for categorizing customers over other clustering methods such as K-means. Density based clustering is capable of handling outliers and does not require to input the number of clusters. Finding the ideal number of clusters will be extremely hard since there may be tons of people who do not share similar spending patterns and interests in the given dataset. In addition, DBScan is competent in connecting nearby clusters using density reachability and connectivity nature so each customer will not be fully restricted to its own group. Applying this method to partition customers will provide a tremendous benefit to a company and the customers will be able to not only enjoy within their interests but also explore further by being introduced with new topics that other customers with similar interests like(Sekhar & Prasanna n.pag).\n",
        "> ## 1.2 Final Discussion\n",
        ">> Lorem IPSUM\n",
        "# 7 References\n",
        "> 1.  Hossain, Shahadat. “Customer Segmentation Using Centroid Based and Density Based Clustering Algorithms.” Customer Segmentation Using Centroid Based and Density Based Clustering Algorithms - IEEE Conference Publication, 1 Feb. 2018, ieeexplore.ieee.org/document/8275249.\n",
        "\n",
        "> 2. Modukuru, Pranay. “Customer Segmentation and Acquisition Using Machine Learning.” Medium, Towards Data Science, 19 Apr. 2020, towardsdatascience.com/customer-segmentation-and-acquisition-using-machine-learning-a219ce0ec139.\n",
        "\n",
        "> 3. Sekhar, Babu B, and Prasanna P Lakshmi. “Customer Data Clustering Using Density Based Algorithm.” Research Gate, International Journal of Engineering & Technology, May 2018, www.researchgate.net/publication/325881992_Customer_Data_Clustering_using_Density_based_algorithm."
      ]
    }
  ]
}