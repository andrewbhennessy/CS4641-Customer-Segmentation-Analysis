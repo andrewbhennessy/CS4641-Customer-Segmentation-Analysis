{
  "nbformat": 4,
  "nbformat_minor": 0,
  "metadata": {
    "colab": {
      "name": "Mid Project Report",
      "provenance": [],
      "collapsed_sections": [],
      "mount_file_id": "1KD1GmIbMWyir6vQdddrpIelwMs-OvYOZ",
      "authorship_tag": "ABX9TyNZcdUqnTm5IQZBmnEGMDiW",
      "include_colab_link": true
    },
    "kernelspec": {
      "name": "python3",
      "display_name": "Python 3"
    }
  },
  "cells": [
    {
      "cell_type": "markdown",
      "metadata": {
        "id": "view-in-github",
        "colab_type": "text"
      },
      "source": [
        "<a href=\"https://colab.research.google.com/github/andrewbhennessy/CS4641-Customer-Segmentation-Analysis/blob/main/Mid_Project_Report.ipynb\" target=\"_parent\"><img src=\"https://colab.research.google.com/assets/colab-badge.svg\" alt=\"Open In Colab\"/></a>"
      ]
    },
    {
      "cell_type": "code",
      "metadata": {
        "id": "MKwbrvzVV7bB"
      },
      "source": [
        "import pandas as pd\n",
        "import numpy as np\n",
        "import sklearn as skl\n",
        "import matplotlib\n",
        "from google.colab import drive"
      ],
      "execution_count": 6,
      "outputs": []
    },
    {
      "cell_type": "code",
      "metadata": {
        "id": "vgEcqS84WWCS",
        "outputId": "c0961a57-b0c5-43f1-8916-3b9332e46f62",
        "colab": {
          "base_uri": "https://localhost:8080/"
        }
      },
      "source": [
        "drive.mount('/content/drive')"
      ],
      "execution_count": 10,
      "outputs": [
        {
          "output_type": "stream",
          "text": [
            "Drive already mounted at /content/drive; to attempt to forcibly remount, call drive.mount(\"/content/drive\", force_remount=True).\n"
          ],
          "name": "stdout"
        }
      ]
    },
    {
      "cell_type": "markdown",
      "metadata": {
        "id": "v2w3HTiqUZdZ"
      },
      "source": [
        "# Customer Data segmentation\n",
        "\n",
        "Link to Our Data: https://www.kaggle.com/carrie1/ecommerce-data\n",
        "\n",
        "How to Mount Data:\n",
        "1. Follow the Instructions in the Auth Cell\n",
        "2. Click the file icon\n",
        "3. Navigate to drive then the folder that I have shared should be CS4641 something\n",
        "4. right click on the file and copy path to the file and input into the next code cell as the first paramater in quotes. \n",
        "\n",
        "Example:\n",
        "\n",
        "\n",
        "```\n",
        "data = pd.read_csv('/content/drive/My Drive/CS4641 Customer Data Segmentation/data.csv', encoding=\"ISO-8859-1\", dtype={'CustomerID': str,'InvoiceID': str})\n",
        "```\n",
        "\n"
      ]
    },
    {
      "cell_type": "code",
      "metadata": {
        "id": "TfYsWZY5VP2j"
      },
      "source": [
        "data = pd.read_csv(\"/content/drive/My Drive/CS4641 Customer Data Segmentation/data.csv\", encoding=\"ISO-8859-1\", dtype={'CustomerID': str,'InvoiceID': str})"
      ],
      "execution_count": 12,
      "outputs": []
    },
    {
      "cell_type": "markdown",
      "metadata": {
        "id": "V1bTrIzyW7XD"
      },
      "source": [
        "# 1. Introduction/Background\n",
        "> ## 1.1 Subpoints\n",
        "> ## 1.2 Subpoints\n",
        "> ## 1.3 Subpoints\n",
        "> ## 1.4 Subpoints\n",
        "#Problem definition\n",
        "> ## 1.1 Subpoints\n",
        "> ## 1.2 Subpoints\n",
        "> ## 1.3 Subpoints\n",
        "> ## 1.4 Subpoints\n",
        "#Data Collection\n",
        "> ## 1.1 Subpoints\n",
        "> ## 1.2 Summary of Data\n"
      ]
    },
    {
      "cell_type": "code",
      "metadata": {
        "id": "HKwtX97AY1yb",
        "outputId": "db9a2313-747d-4eb6-9b1a-50083565fe64",
        "colab": {
          "base_uri": "https://localhost:8080/",
          "height": 204
        }
      },
      "source": [
        "data.head(5)"
      ],
      "execution_count": 13,
      "outputs": [
        {
          "output_type": "execute_result",
          "data": {
            "text/html": [
              "<div>\n",
              "<style scoped>\n",
              "    .dataframe tbody tr th:only-of-type {\n",
              "        vertical-align: middle;\n",
              "    }\n",
              "\n",
              "    .dataframe tbody tr th {\n",
              "        vertical-align: top;\n",
              "    }\n",
              "\n",
              "    .dataframe thead th {\n",
              "        text-align: right;\n",
              "    }\n",
              "</style>\n",
              "<table border=\"1\" class=\"dataframe\">\n",
              "  <thead>\n",
              "    <tr style=\"text-align: right;\">\n",
              "      <th></th>\n",
              "      <th>InvoiceNo</th>\n",
              "      <th>StockCode</th>\n",
              "      <th>Description</th>\n",
              "      <th>Quantity</th>\n",
              "      <th>InvoiceDate</th>\n",
              "      <th>UnitPrice</th>\n",
              "      <th>CustomerID</th>\n",
              "      <th>Country</th>\n",
              "    </tr>\n",
              "  </thead>\n",
              "  <tbody>\n",
              "    <tr>\n",
              "      <th>0</th>\n",
              "      <td>536365</td>\n",
              "      <td>85123A</td>\n",
              "      <td>WHITE HANGING HEART T-LIGHT HOLDER</td>\n",
              "      <td>6</td>\n",
              "      <td>12/1/2010 8:26</td>\n",
              "      <td>2.55</td>\n",
              "      <td>17850</td>\n",
              "      <td>United Kingdom</td>\n",
              "    </tr>\n",
              "    <tr>\n",
              "      <th>1</th>\n",
              "      <td>536365</td>\n",
              "      <td>71053</td>\n",
              "      <td>WHITE METAL LANTERN</td>\n",
              "      <td>6</td>\n",
              "      <td>12/1/2010 8:26</td>\n",
              "      <td>3.39</td>\n",
              "      <td>17850</td>\n",
              "      <td>United Kingdom</td>\n",
              "    </tr>\n",
              "    <tr>\n",
              "      <th>2</th>\n",
              "      <td>536365</td>\n",
              "      <td>84406B</td>\n",
              "      <td>CREAM CUPID HEARTS COAT HANGER</td>\n",
              "      <td>8</td>\n",
              "      <td>12/1/2010 8:26</td>\n",
              "      <td>2.75</td>\n",
              "      <td>17850</td>\n",
              "      <td>United Kingdom</td>\n",
              "    </tr>\n",
              "    <tr>\n",
              "      <th>3</th>\n",
              "      <td>536365</td>\n",
              "      <td>84029G</td>\n",
              "      <td>KNITTED UNION FLAG HOT WATER BOTTLE</td>\n",
              "      <td>6</td>\n",
              "      <td>12/1/2010 8:26</td>\n",
              "      <td>3.39</td>\n",
              "      <td>17850</td>\n",
              "      <td>United Kingdom</td>\n",
              "    </tr>\n",
              "    <tr>\n",
              "      <th>4</th>\n",
              "      <td>536365</td>\n",
              "      <td>84029E</td>\n",
              "      <td>RED WOOLLY HOTTIE WHITE HEART.</td>\n",
              "      <td>6</td>\n",
              "      <td>12/1/2010 8:26</td>\n",
              "      <td>3.39</td>\n",
              "      <td>17850</td>\n",
              "      <td>United Kingdom</td>\n",
              "    </tr>\n",
              "  </tbody>\n",
              "</table>\n",
              "</div>"
            ],
            "text/plain": [
              "  InvoiceNo StockCode  ... CustomerID         Country\n",
              "0    536365    85123A  ...      17850  United Kingdom\n",
              "1    536365     71053  ...      17850  United Kingdom\n",
              "2    536365    84406B  ...      17850  United Kingdom\n",
              "3    536365    84029G  ...      17850  United Kingdom\n",
              "4    536365    84029E  ...      17850  United Kingdom\n",
              "\n",
              "[5 rows x 8 columns]"
            ]
          },
          "metadata": {
            "tags": []
          },
          "execution_count": 13
        }
      ]
    },
    {
      "cell_type": "markdown",
      "metadata": {
        "id": "A3nCtsGuY0t4"
      },
      "source": [
        "#Methods\n",
        "> ## 1.1 Subpoints\n",
        "> ## 1.2 Subpoints\n",
        "> ## 1.3 Subpoints\n",
        "> ## 1.4 Subpoints\n",
        "#Results\n",
        "> ## 1.1 Subpoints\n",
        "> ## 1.2 Subpoints\n",
        "> ## 1.3 Subpoints\n",
        "> ## 1.4 Subpoints\n",
        "#Discussion\n",
        "> ## 1.1 Subpoints\n",
        "> ## 1.2 Subpoints\n",
        "> ## 1.3 Subpoints\n",
        "> ## 1.4 Subpoints"
      ]
    }
  ]
}